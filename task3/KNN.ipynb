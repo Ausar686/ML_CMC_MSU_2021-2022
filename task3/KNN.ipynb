{
 "cells": [
  {
   "cell_type": "markdown",
   "metadata": {},
   "source": [
    "# Курс по машинному обучению,   ВМК МГУ\n",
    "# KNN: Классификация и регрессия"
   ]
  },
  {
   "cell_type": "markdown",
   "metadata": {},
   "source": [
    "### Важно! О формате сдачи\n",
    "\n",
    "* **Задания из ноутбука, за исключением двух заданий на реализацию кода, оцениваются по системе <font color='red'>кросс-рецензирования</font>.**\n",
    "* **При решении ноутбука используйте данный шаблон. Не нужно удалять текстовые ячейки c разметкой частей ноутбука и формулировками заданий. Добавлять свои ячейки, при необходимости, конечно можно**\n",
    "* **Везде, где в формулровке задания есть какой-либо вопрос (или просьба вывода), необходимо прописать ответ в ячейку (код или markdown).**\n",
    "* **Наличие кода решения обязательно. Письменные ответы на вопросы без сопутствующего кода оцениваются в 0 баллов.**"
   ]
  },
  {
   "cell_type": "markdown",
   "metadata": {},
   "source": [
    "### Важно!\n",
    "\n",
    "**Перед тем, как сдать ноутбук на кросс-рецензирование, мы рекомендуем перезапустить ядро и выполнить весь ноутбук (cell -> run all)**"
   ]
  },
  {
   "cell_type": "markdown",
   "metadata": {},
   "source": [
    "# Часть 0. Знакомство с библиотекой scikit-learn"
   ]
  },
  {
   "cell_type": "markdown",
   "metadata": {},
   "source": [
    "Scikit-learn - это библиотека машинного обучения с открытым исходным кодом, которая предоставляет различные инструменты для предобработки данных и обучения моделей.\n",
    "\n",
    "Каждый модуль предобработки данных имеет два метода: fit и transform. Как правило, метод fit принимает на вход **обучающую** выборку $X$ и считает по ней необходимые для заданного типа преобразования статистики. Метод transform преобразует входные **(train и test)** данные, используя статистики, посчитанные при вызове метода fit и возвращает преобразованные данные.\n",
    "\n",
    "Каждая модель машинного обучения имеет два метода: fit - метод ответственный за обучения модели и predict - метод ответственный за предсказание целевой переменной. Многие модели имеют метод predcit_proba, который возвращает вероятность принадлежности объекта к каждому из классов. Как правило, метод fit принимает на вход два аргумента: $X$ - **обучающая** выборка, $y$ - значения целевых переменных на объектах обучающей выборки. Метод predict принимает на вход набор данных и выдает предсказанные значения целевых переменных на этом наборе данных.\n",
    "\n",
    "Более подробно про библиотеку можно прочитать в документации по [ссылке](https://scikit-learn.org/stable/index.html)"
   ]
  },
  {
   "cell_type": "markdown",
   "metadata": {},
   "source": [
    "# Часть 1. Нормализация признакового пространства"
   ]
  },
  {
   "cell_type": "markdown",
   "metadata": {},
   "source": [
    "В задачах машинного обучения важную роль играет нормализация данных. Для числовых признаков, как правило, используют два типа нормализации:\n",
    "\n",
    "* Нормализация к распределению с нулевым матожиданием и единичной дисперсией $x := \\frac{x - E(x)}{\\sigma (x)}$, где матожидание $E(x)$ и стандартное отклонение $\\sigma (x)$ считаются по каждому признаку (столбцу) отдельно\n",
    "* Нормализация в отрезок [0, 1] $x := \\frac{x - \\min(x)}{\\max(x) - \\min(x)}$, где минимум и максимум берется по каждому признаку (столбцу) отдельно"
   ]
  },
  {
   "cell_type": "markdown",
   "metadata": {},
   "source": [
    "Рассмотрим пример. Ниже приведены: таблца до нормализации признаков, таблица после нормализации к нулевому матожиданию и единичной дисперсии, таблица после нормализации в отрезок [0, 1]\n",
    "\n",
    "До нормализации \n",
    "\n",
    "| Признак 1   | Признак 2   |\n",
    "| ----------- | ----------- |\n",
    "| 1           | 2           |\n",
    "| 2           | -1          |\n",
    "| 3           | 0           |\n",
    "\n",
    "Нормализация к нулевому матожиданию и единичной дисперсии\n",
    "\n",
    "| Признак 1   | Признак 2   |\n",
    "| ----------- | ----------- |\n",
    "| -1.225      | 1.336       |\n",
    "| 0           | -1.069      |\n",
    "| 1.225       | -0.267      |\n",
    "\n",
    "Нормализация в отрезок [0, 1]\n",
    "\n",
    "| Признак 1   | Признак 2   |\n",
    "| ----------- | ----------- |\n",
    "| 0           | 1           |\n",
    "| 0.5         | 0           |\n",
    "| 1           | 0.333       |"
   ]
  },
  {
   "cell_type": "markdown",
   "metadata": {},
   "source": [
    "**Задание 1.1** (тесты, 5 баллов) В модуле scalers.py реализуйте два вида нормализации признакового пространства. StandardScaler - нормализация к распределению с нулевым матожиданием и единичной дисперсией, MinMaxScaler - нормализация в отрезок [0, 1].\n",
    "\n",
    "Нормализаторы имеют два метода - метод fit и метод transform. Метод fit получает на вход **обучающую** выборку и считает по ней все необходимые для заданного преобразования статистики. Метод transform преобразует данные, используя статистистики, посчитанные при вызове метода fit."
   ]
  },
  {
   "cell_type": "markdown",
   "metadata": {},
   "source": [
    "Положите файл scalers.py в одну директорию с jupyter ноутбуком"
   ]
  },
  {
   "cell_type": "code",
   "execution_count": 1,
   "metadata": {},
   "outputs": [],
   "source": [
    "from scalers import StandardScaler, MinMaxScaler"
   ]
  },
  {
   "cell_type": "code",
   "execution_count": 2,
   "metadata": {},
   "outputs": [],
   "source": [
    "import numpy as np\n",
    "import seaborn as sns\n",
    "import pickle\n",
    "\n",
    "from matplotlib import pyplot as plt\n",
    "\n",
    "\n",
    "plt.rcParams[\"figure.figsize\"] = (5,5)"
   ]
  },
  {
   "cell_type": "markdown",
   "metadata": {},
   "source": [
    "Загрузим данные в память. В переменной $X$ будут храниться признаковые описания объектов, в переменной $y~-$ метки классов"
   ]
  },
  {
   "cell_type": "code",
   "execution_count": 3,
   "metadata": {},
   "outputs": [],
   "source": [
    "with open('data.pkl', 'rb') as file:\n",
    "    X, y = pickle.load(file)"
   ]
  },
  {
   "cell_type": "code",
   "execution_count": 4,
   "metadata": {},
   "outputs": [],
   "source": [
    "def plot_data_points(X, labels, xlim, ylim):\n",
    "    g = sns.scatterplot(x=X[:, 0], y=X[:, 1], hue=labels)\n",
    "    g.set(xlim=xlim, ylim=ylim)\n",
    "    plt.xlabel('x')\n",
    "    plt.ylabel('y')\n",
    "    plt.grid()"
   ]
  },
  {
   "cell_type": "markdown",
   "metadata": {},
   "source": [
    "Визуализируем наши данные"
   ]
  },
  {
   "cell_type": "code",
   "execution_count": 5,
   "metadata": {},
   "outputs": [
    {
     "data": {
      "image/png": "[encoded data removed]",
      "text/plain": [
       "<Figure size 360x360 with 1 Axes>"
      ]
     },
     "metadata": {
      "needs_background": "light"
     },
     "output_type": "display_data"
    }
   ],
   "source": [
    "plot_data_points(X, y, xlim=(-15, 15), ylim=(-15, 15))"
   ]
  },
  {
   "cell_type": "markdown",
   "metadata": {},
   "source": [
    "Как видно, наши данные идеально разделяются прямой $x=0$"
   ]
  },
  {
   "cell_type": "markdown",
   "metadata": {},
   "source": [
    "Функция $plot\\_knn\\_bound$ принимает на вход объекты $X$, метки классов $y$, метод нормализации признаков $scaler$, число соседей $n\\_neighbors$ и границы рисунка $xlim$, $ylim$. Функция обучает $KNN$ классификатор с числом соседей $n\\_neighbors$ и визуализирует разделяющую поверхность для классов, полученную с помощью обученного $KNN$ классификатора.\n",
    "\n",
    "* Если вы не можете различить _выбранные нами цвета_, то измените список цветов в переменных cmap_light и cmap_bold. Актуальный список возможных цветов находится [здесь](https://matplotlib.org/stable/tutorials/colors/colormaps.html)"
   ]
  },
  {
   "cell_type": "code",
   "execution_count": 6,
   "metadata": {},
   "outputs": [],
   "source": [
    "from matplotlib.colors import ListedColormap\n",
    "from sklearn import neighbors, datasets\n",
    "\n",
    "def plot_knn_bound(X, y, scaler=None, n_neighbors=10, xlim=(-15, 15), ylim=(-20, 20)):\n",
    "    # step size in the mesh\n",
    "    h = 0.05\n",
    "\n",
    "    # Create color maps\n",
    "    cmap_light = ListedColormap(['C0', 'orange', 'cyan', 'green'][:np.unique(y).shape[0]])\n",
    "    cmap_bold = ['C0', 'orange', 'c', 'darkgreen'][:np.unique(y).shape[0]]\n",
    "\n",
    "    x_min, x_max = xlim\n",
    "    y_min, y_max = ylim\n",
    "    xx, yy = np.meshgrid(np.arange(x_min, x_max, h),\n",
    "                         np.arange(y_min, y_max, h))\n",
    "    grid = np.c_[xx.ravel(), yy.ravel()]\n",
    "    \n",
    "    X_scaled = X # if scaler is None\n",
    "    if scaler is not None:\n",
    "        grid = scaler.transform(grid)\n",
    "        X_scaled = scaler.transform(X)\n",
    "\n",
    "    # we create an instance of Neighbours Classifier and fit the data.\n",
    "    clf = neighbors.KNeighborsClassifier(n_neighbors, algorithm='brute')\n",
    "    clf.fit(X_scaled, y)\n",
    "\n",
    "    Z = clf.predict(grid)\n",
    "\n",
    "    # Put the result into a color plot\n",
    "    Z = Z.reshape(xx.shape)\n",
    "    plt.contourf(xx, yy, Z, cmap=cmap_light)\n",
    "\n",
    "    #     # Plot also the training points\n",
    "    sns.scatterplot(x=X[:, 0], y=X[:, 1], hue=y,\n",
    "                    palette=cmap_bold, alpha=1.0, edgecolor=\"black\")\n",
    "    plt.xlabel('x')\n",
    "    plt.ylabel('y')\n",
    "    plt.title('Разделющие поверхности алгоритма {}-NN'.format(n_neighbors))\n",
    "    plt.grid()\n",
    "    plt.show()"
   ]
  },
  {
   "cell_type": "markdown",
   "metadata": {},
   "source": [
    "Нарисуем разделющие поверхности $1$-$NN$ и $10$-$NN$"
   ]
  },
  {
   "cell_type": "code",
   "execution_count": 7,
   "metadata": {},
   "outputs": [
    {
     "data": {
      "image/png": "[encoded data removed]",
      "text/plain": [
       "<Figure size 360x360 with 1 Axes>"
      ]
     },
     "metadata": {
      "needs_background": "light"
     },
     "output_type": "display_data"
    },
    {
     "data": {
      "image/png": "[encoded data removed]",
      "text/plain": [
       "<Figure size 360x360 with 1 Axes>"
      ]
     },
     "metadata": {
      "needs_background": "light"
     },
     "output_type": "display_data"
    }
   ],
   "source": [
    "plot_knn_bound(X, y, n_neighbors=1)\n",
    "plot_knn_bound(X, y, n_neighbors=10)"
   ]
  },
  {
   "cell_type": "markdown",
   "metadata": {},
   "source": [
    "**Задание 1.2** (кросс, 2 балла) Чем отличаются поверхности, полученные при числе соседей 1 и 10? Объясните, чем вызваны данные отличия"
   ]
  },
  {
   "cell_type": "markdown",
   "metadata": {},
   "source": [
    "ВАШ ОТВЕТ: Вторая поверхность более гладкая и с меньшим числом изломов. Это вызвано увеличением количества рассматриваемых ближайших соседей: чем больше соседей требуется для окраса в определенный цвет, тем более гладкий будет переход из одного цвета в другой на границе."
   ]
  },
  {
   "cell_type": "markdown",
   "metadata": {},
   "source": [
    "**Задание 1.3** (кросс, 3 балла) Объясните, почему наблюдается сильное отклоенние разделяющей поверхности от прямой $x=0$ при значениях $y < -10$ и $y > 10$"
   ]
  },
  {
   "cell_type": "markdown",
   "metadata": {},
   "source": [
    "ВАШ ОТВЕТ: Из графика следует, что большинство точек как синего, так и оранжевого цвета, лежат в границах $ y \\in [-10, 10]$. При рассмотрении ближайшего соседа к точке, удалённой от области основной концентрации точек (т.е., например, $y < -10$ разделяющая поверхность будет приближаться к разделяющей поверхности между двумя самыми \"низкими\" (в случае для $y > 10$ - самыми \"высокими\") точками. Разделяющая поверхность двух точек - серединный перпендикуляр к отрезку, соединяющему их. Из графика следует, что \"крайние\" по высоте (т.е. самая \"высокая\" и самая \"низкая\") точки имеют оранжевый цвет. Значит, серединный перпендикуляр к отрезку, соединяющему самую \"низкую\" оранжевую точку с самой \"низкой\" синей точкой, будет наклонён относительно вертикальной оси. Направление наклона следует из того, что именно оранжевая точка самая \"низкая\". Аналогичные рассуждения проводятся для самых \"высоких\" точек. Отсюда вытекает тот факт, что при больших значениях переменной $y$ разделяющая поверхность будет заметно отличаться от вертикальной прямой $x = 0$."
   ]
  },
  {
   "cell_type": "markdown",
   "metadata": {},
   "source": [
    "Данную проблему может решить нормализация признакового пространства. \n",
    "\n",
    "**Задание 1.4** (кросс, 1 балл) Начертите разделяющие поверхности для $KNN$, обученного на нормализованных признаках с помощью реализованных вами нормализаторов. Используйте функцию $plot\\_knn\\_bound$"
   ]
  },
  {
   "cell_type": "code",
   "execution_count": 8,
   "metadata": {},
   "outputs": [
    {
     "data": {
      "image/png": "[encoded data removed]",
      "text/plain": [
       "<Figure size 360x360 with 1 Axes>"
      ]
     },
     "metadata": {
      "needs_background": "light"
     },
     "output_type": "display_data"
    },
    {
     "data": {
      "image/png": "[encoded data removed]",
      "text/plain": [
       "<Figure size 360x360 with 1 Axes>"
      ]
     },
     "metadata": {
      "needs_background": "light"
     },
     "output_type": "display_data"
    }
   ],
   "source": [
    "#ваш код, нормализация с StandardScaler\n",
    "scl1 = StandardScaler()\n",
    "scl1.fit(X)\n",
    "X1 = scl1.transform(X)\n",
    "plot_knn_bound(X1, y, n_neighbors=1)\n",
    "plot_knn_bound(X1, y, n_neighbors=10)"
   ]
  },
  {
   "cell_type": "code",
   "execution_count": 9,
   "metadata": {},
   "outputs": [
    {
     "data": {
      "image/png": "[encoded data removed]",
      "text/plain": [
       "<Figure size 360x360 with 1 Axes>"
      ]
     },
     "metadata": {
      "needs_background": "light"
     },
     "output_type": "display_data"
    },
    {
     "data": {
      "image/png": "[encoded data removed]",
      "text/plain": [
       "<Figure size 360x360 with 1 Axes>"
      ]
     },
     "metadata": {
      "needs_background": "light"
     },
     "output_type": "display_data"
    }
   ],
   "source": [
    "#ваш код, нормализация с MinMaxScaler\n",
    "scl2 = MinMaxScaler()\n",
    "scl2.fit(X)\n",
    "X2 = scl2.transform(X)\n",
    "plot_knn_bound(X2, y, n_neighbors=1)\n",
    "plot_knn_bound(X2, y, n_neighbors=10)"
   ]
  },
  {
   "cell_type": "markdown",
   "metadata": {},
   "source": [
    "**Задание 1.5** (кросс, 4 балла) Пусть дано произвольное число точек на плоскости. Представим, что каждая точка - это отдельный класс. Пусть на данной выборке был обучен $1$-$NN$ классификатор. Чем с геометрической точки зрения являются раделяющие поверхности этого классификатора? Приведите доказательство для произвольного числа точек\n",
    "\n",
    "В качестве примера ниже представлена визуализация для четырех точек"
   ]
  },
  {
   "cell_type": "code",
   "execution_count": 10,
   "metadata": {},
   "outputs": [
    {
     "data": {
      "image/png": "[encoded data removed]",
      "text/plain": [
       "<Figure size 360x360 with 1 Axes>"
      ]
     },
     "metadata": {
      "needs_background": "light"
     },
     "output_type": "display_data"
    }
   ],
   "source": [
    "X = np.random.randn(4, 2)\n",
    "y = np.arange(4)\n",
    "plot_knn_bound(X, y, n_neighbors=1, xlim=(-3, 3), ylim=(-3, 3))"
   ]
  },
  {
   "cell_type": "markdown",
   "metadata": {},
   "source": [
    "Пусть на плоскости заданы $n$ точек: $a_1, a_2, ..., a_n$. Положим $l_{i,j}$ $(i \\neq j)$ - серединный перпендикуляр к отрезку, соединяющему точки $a_i, a_j$. Положим $\\Pi_{i, i, j}, \\Pi_{i, i, j}$ - полуплоскости, содержащие точки $a_i$ и $a_j$ соответственно, на которые прямая $l_{i, j}$ делит плоскость. Тогда геометрическое место точек, относящихся к $i$-ому классу - это:$\\newline$\n",
    "$\\cap_{j \\neq i} \\Pi_{i, i, j} \\newline$\n",
    "**Доказательство:** $\\newline$\n",
    "1) Пусть точка $\\alpha$ принадлежит $i$-ому классу. Тогда $\\forall j \\neq i: \\rho(\\alpha, a_i) < \\rho(\\alpha, a_j) \\Rightarrow$ (т.к. сер. пер. - геометрическое место точек равноудалённых от двух данных точек) $\\forall j \\neq i: \\alpha \\in \\Pi_{i, i, j}$ **Q.E.D** $\\newline$\n",
    "2) Пусть точка $\\alpha \\in \\cap_{j \\neq i} \\Pi_{i, i, j} \\Rightarrow \\forall j \\neq i: \\alpha \\in \\Pi_{i, i, j} \\Rightarrow$ (т.к. сер. пер. - геометрическое место точек равноудалённых от двух данных точек) $\\forall j \\neq i: \\rho(\\alpha, a_i) < \\rho(\\alpha, a_j)$ **Q.E.D**$\\newline$\n",
    "Полученное разбиение называется **диаграммой Вороного**: https://ru.wikipedia.org/wiki/%D0%94%D0%B8%D0%B0%D0%B3%D1%80%D0%B0%D0%BC%D0%BC%D0%B0_%D0%92%D0%BE%D1%80%D0%BE%D0%BD%D0%BE%D0%B3%D0%BE\n",
    "Значит, разделяющие границы этого разбиения, являющиеся некоторыми связными подмножествами объединения серединных перпендикуляров, являются **разделяющими поверхностями диаграммы Вороного**."
   ]
  },
  {
   "cell_type": "markdown",
   "metadata": {},
   "source": [
    "# Часть 2. Кросс-валидация на задаче регрессии"
   ]
  },
  {
   "cell_type": "markdown",
   "metadata": {},
   "source": [
    "При решении прикладных задач, как правило, доступна лишь обучающая выборка. Для того чтобы иметь возможность оценить качество модели на тестовой выборке, прибегают к методу, называемому кросс-валидация. Пусть зафиксирован некоторый набор параметров модели. В $KNN$ под параметрами могут пониматься число соседей, метрика близости $\\rho$, стратегия выбора весов $w_i$. При кросс-валидации **обучающая** выборка делится на $n$ равных частей (folds). Затем обучаются $n$ моделей с заданными параметрами (у всех моделей параметры одинаковые и фиксированы) - $i$-ая модель обучается на всей обучающей выборке, кроме объектов, которые попали в $i$-ый фолд (out-of-fold). Затем измеряется качество $i$-ой модели на $i$-ом фолде. Так как он не участвовал в обучении этой модели, то полученная оценка качества модели будет являться корректной. Финальным значением метрики качества для модели с заданными параметрами является среднее полученных нами значений на $n$ фолдах.\n",
    "\n",
    "Принцип работы кросс-валидации схематично изображен на рисунке.\n",
    "\n",
    "<img src=\"cross-val.png\" style=\"width: 700px;\">"
   ]
  },
  {
   "cell_type": "markdown",
   "metadata": {},
   "source": [
    "**Задание 2.1** (тест, 10 баллов) В модуле cross\\_val.py реализуйте функции\n",
    "\n",
    "* $kfold\\_split$, которая реализует генерацию индексов обучающей и валидационной выборок для кросс-валидации\n",
    "* $knn\\_cv\\_score$, которая реализует кросс-валидацию для $KNN-$модели"
   ]
  },
  {
   "cell_type": "markdown",
   "metadata": {},
   "source": [
    "Далее будем решать задачу предсказания цены дома в Бостоне с помощью $KNN$-регрессии. В качестве метрики качества будем использовать $R^2-$score.\n",
    "\n",
    "$R^2(y\\_true, y\\_predict) = 1 - \\frac{\\sum_{i=1}^{n} (y\\_true_i - y\\_predict_i)^2}{\\sum_{i=1}^{n} (y\\_true_i - E(y\\_true))^2}$\n",
    "\n",
    "Наилучшее значение метрики равно $1.0$, метрика может принимать отрицательные значения"
   ]
  },
  {
   "cell_type": "code",
   "execution_count": 11,
   "metadata": {},
   "outputs": [],
   "source": [
    "from sklearn.datasets import load_boston\n",
    "from sklearn.model_selection import train_test_split"
   ]
  },
  {
   "cell_type": "code",
   "execution_count": 12,
   "metadata": {},
   "outputs": [],
   "source": [
    "X, y = load_boston(return_X_y=True)"
   ]
  },
  {
   "cell_type": "markdown",
   "metadata": {},
   "source": [
    "**Задание 2.2** (кросс, 1 балл) Разбейте выборку на обучающую (75%) и тестовую (25%) с помощью функции $train\\_test\\_split$. Используйте параметр **random_state=42!** Не забудьте перемешать данные перед разбиением (см. параметры функции). Запустите кросс-валидацию на 3 фолдах с помощью реализованных вами функций $kfold\\_split$, $knn\\_cv\\_score$. В качестве метрики используйте $r2\\_score$. Параметры для перебора описаны ниже"
   ]
  },
  {
   "cell_type": "code",
   "execution_count": 13,
   "metadata": {},
   "outputs": [],
   "source": [
    "# ваш код\n",
    "X_train, X_test, y_train, y_test = train_test_split(X, y, test_size = 0.25, random_state = 42, shuffle = True)"
   ]
  },
  {
   "cell_type": "code",
   "execution_count": 14,
   "metadata": {},
   "outputs": [],
   "source": [
    "from sklearn.metrics import r2_score\n",
    "\n",
    "parameters = {\n",
    "    'n_neighbors': [1, 5, 10],\n",
    "    'metrics': ['euclidean', 'cosine'],\n",
    "    'weights': ['uniform', 'distance'],\n",
    "    'normalizers': [(None, 'None'), (MinMaxScaler(), 'MinMax'), (StandardScaler(), 'Standard')]\n",
    "}\n",
    "score_function = r2_score"
   ]
  },
  {
   "cell_type": "markdown",
   "metadata": {},
   "source": [
    "Положите файл cross_val.py в одну директорию с jupyter ноутбуком"
   ]
  },
  {
   "cell_type": "code",
   "execution_count": 15,
   "metadata": {},
   "outputs": [],
   "source": [
    "from cross_val import kfold_split, knn_cv_score\n",
    "# ваш код\n",
    "folds = kfold_split(X_train.shape[0], 3)\n",
    "out = knn_cv_score(X_train, y_train, parameters, score_function, folds, neighbors.KNeighborsRegressor)"
   ]
  },
  {
   "cell_type": "markdown",
   "metadata": {},
   "source": [
    "**Задание 2.3** (кросс, 3 балла) Какой наибольший $r2\\_score$ удалось достичь на валидации? Какие закономерности вы видите? Обучите модель с наилучшими параметрами на всей обучающей выборке, измерьте $r2\\_score$ на тестовой выборке."
   ]
  },
  {
   "cell_type": "markdown",
   "metadata": {},
   "source": [
    "Выведите результаты кросс-валидации"
   ]
  },
  {
   "cell_type": "code",
   "execution_count": 16,
   "metadata": {},
   "outputs": [
    {
     "name": "stdout",
     "output_type": "stream",
     "text": [
      "[('MinMax', 5, 'cosine', 'distance')]\n",
      "0.7794819934795196\n"
     ]
    }
   ],
   "source": [
    "#ваш код\n",
    "best_parameters = [key for key in out.keys() if out[key] == max(out.values())]\n",
    "print(best_parameters)\n",
    "print(max(out.values()))"
   ]
  },
  {
   "cell_type": "markdown",
   "metadata": {},
   "source": [
    "ВАШ ОТВЕТ: Наибольший $r2\\_score$ на валидации $0.77948$"
   ]
  },
  {
   "cell_type": "markdown",
   "metadata": {},
   "source": [
    "Обучите модель с лучшими по валидации параметрами на обучающей выборке"
   ]
  },
  {
   "cell_type": "code",
   "execution_count": 17,
   "metadata": {},
   "outputs": [
    {
     "data": {
      "text/plain": [
       "0.744427085333688"
      ]
     },
     "execution_count": 17,
     "metadata": {},
     "output_type": "execute_result"
    }
   ],
   "source": [
    "# ваш код\n",
    "scl = MinMaxScaler()\n",
    "scl.fit(X_train)\n",
    "X1_train = scl.transform(X_train)\n",
    "clf = neighbors.KNeighborsRegressor(n_neighbors = 5, weights = \"distance\", metric = \"cosine\")\n",
    "clf.fit(X1_train, y_train)\n",
    "X1_test = scl.transform(X_test)\n",
    "y_predict = clf.predict(X1_test)\n",
    "score = r2_score(y_test, y_predict)\n",
    "score"
   ]
  },
  {
   "cell_type": "markdown",
   "metadata": {},
   "source": [
    "# Часть 3. Работа с текстовыми данными"
   ]
  },
  {
   "cell_type": "markdown",
   "metadata": {},
   "source": [
    "Далее будем решать задачу классификации новостного текста к одному из 20 классов, каждый класс соответствует определенной новостной тематике. В качестве метрики качества будем использовать $accuracy\\_score$. Accuracy - это доля верно классифицированных объектов, среди всех объектов выборки."
   ]
  },
  {
   "cell_type": "code",
   "execution_count": 18,
   "metadata": {},
   "outputs": [],
   "source": [
    "from sklearn.datasets import fetch_20newsgroups\n",
    "from sklearn.feature_extraction.text import CountVectorizer, TfidfVectorizer"
   ]
  },
  {
   "cell_type": "code",
   "execution_count": 19,
   "metadata": {},
   "outputs": [],
   "source": [
    "X_train, y_train = fetch_20newsgroups(subset='train', return_X_y=True, random_state=42)\n",
    "X_test, y_test = fetch_20newsgroups(subset='test', return_X_y=True, random_state=42)\n",
    "X_train = np.array(X_train)\n",
    "X_test = np.array(X_test)\n",
    "y_train = np.array(y_train)\n",
    "y_test = np.array(y_test)"
   ]
  },
  {
   "cell_type": "code",
   "execution_count": 20,
   "metadata": {},
   "outputs": [
    {
     "name": "stdout",
     "output_type": "stream",
     "text": [
      "From: lerxst@wam.umd.edu (where's my thing)\n",
      "Subject: WHAT car is this!?\n",
      "Nntp-Posting-Host: rac3.wam.umd.edu\n",
      "Organization: University of Maryland, College Park\n",
      "Lines: 15\n",
      "\n",
      " I was wondering if anyone out there could enlighten me on this car I saw\n",
      "the other day. It was a 2-door sports car, looked to be from the late 60s/\n",
      "early 70s. It was called a Bricklin. The doors were really small. In addition,\n",
      "the front bumper was separate from the rest of the body. This is \n",
      "all I know. If anyone can tellme a model name, engine specs, years\n",
      "of production, where this car is made, history, or whatever info you\n",
      "have on this funky looking car, please e-mail.\n",
      "\n",
      "Thanks,\n",
      "- IL\n",
      "   ---- brought to you by your neighborhood Lerxst ----\n",
      "\n",
      "\n",
      "\n",
      "\n",
      "\n"
     ]
    }
   ],
   "source": [
    "print(X_train[0])"
   ]
  },
  {
   "cell_type": "markdown",
   "metadata": {},
   "source": [
    "Как мы видим, объектами обучающей выборки являются тексты. Сырые текстовые данные не могут служить обучающими примерами для алгоритма $KNN$. Перед использованием $KNN$ текстовые данные переменной длины необходимо отобразить в метрическое пространство фиксированной размерности.\n",
    "\n",
    "Работа с текстовыми данными проходит в несколько этапов.\n",
    "\n",
    "* **Токенизация.** Текстовая строка делится на токены. Как правило, в качестве токенов выступают отдельные слова и знаки препинания.\n",
    "\n",
    "* **Нормализация.** Приведение к нижнему регистру, удаление стоп-слов, удаление пунктуации, удаление редких и частотных слов и т.д.\n",
    "\n",
    "* **Векторизация.** Фиксируется словарь токенов $V$ по **обучающей** выборке. Текст представлется в виде вектора длиной $|V|$, где каждый признак есть функция от частоты встречаемости токена в тексте и в обучающей выборке.\n",
    "\n",
    "В данном задании будет использовано два вида векторизации. Первый, $CountVectorizer$, сопоставляет каждому токену частоту встречаемости этого токена в тексте документа. Второй, $TfidfVectorizer$, сопоставляет каждому токену частоту встречаемости этого токена в тексте документа умноженную на величину обратно пропорциональную частоте встречаемости токена во всех документах **обучающей** выборки. Подробне про $tf-idf$ можно прочитать [здесь](https://ru.wikipedia.org/wiki/TF-IDF)."
   ]
  },
  {
   "cell_type": "markdown",
   "metadata": {},
   "source": [
    "В sklearn все векторизаторы автоматически токенизируют текст и приводят его к нижнему регистру. Параметры $max\\_df$ и $min\\_df$ позволяют убрать из словаря наиболее частые и наиболее редкие токены. Параметр $stop\\_words$ позволяет убрать из словаря стоп-слова (малоинформативные слова для данного языка, например, союзы)."
   ]
  },
  {
   "cell_type": "code",
   "execution_count": 21,
   "metadata": {},
   "outputs": [],
   "source": [
    "count_vec = CountVectorizer(max_df=0.8, min_df=10, stop_words='english')\n",
    "tf_idf = TfidfVectorizer(max_df=0.8, min_df=10, stop_words='english')"
   ]
  },
  {
   "cell_type": "markdown",
   "metadata": {},
   "source": [
    "**Задание 3.1** (кросс, 2 балла) Найдите оптимальные параметры обучения модели. Осуществлять перебор параметров следует по заданной ниже сетке. Используйте реализованные вами функции $kfold\\_split$, $knn\\_cv\\_score$. В качестве метрики используйте $accuracy\\_score$."
   ]
  },
  {
   "cell_type": "code",
   "execution_count": 22,
   "metadata": {},
   "outputs": [],
   "source": [
    "from sklearn.metrics import accuracy_score\n",
    "\n",
    "parameters = {\n",
    "    'n_neighbors': [i for i in range(1, 11)],\n",
    "    'metrics': ['euclidean', 'cosine'],\n",
    "    'weights': ['uniform', 'distance'],\n",
    "    'normalizers': [(count_vec, 'CountVectorizer'), (tf_idf, 'TfidfVectorizer')]\n",
    "}"
   ]
  },
  {
   "cell_type": "code",
   "execution_count": 23,
   "metadata": {},
   "outputs": [],
   "source": [
    "#ваш код\n",
    "folds = kfold_split(X_train.shape[0], 3)\n",
    "out = knn_cv_score(X_train, y_train, parameters, accuracy_score, folds, neighbors.KNeighborsClassifier)"
   ]
  },
  {
   "cell_type": "markdown",
   "metadata": {},
   "source": [
    "**Задание 3.2** (кросс, 2 балла) Какой метод предобработки данных в среднем дает наилучший результат? Почему?"
   ]
  },
  {
   "cell_type": "code",
   "execution_count": 24,
   "metadata": {},
   "outputs": [
    {
     "name": "stdout",
     "output_type": "stream",
     "text": [
      "0.6267627473259445 0.7688237275756762\n"
     ]
    }
   ],
   "source": [
    "# ваш код\n",
    "count_score = 0\n",
    "tfidf_score = 0\n",
    "count_num = 0\n",
    "tfidf_num = 0\n",
    "for key in out.keys():\n",
    "    if key[0] == \"TfidfVectorizer\":\n",
    "        tfidf_score += out[key]\n",
    "        tfidf_num += 1\n",
    "    elif key[0] == \"CountVectorizer\":\n",
    "        count_score += out[key]\n",
    "        count_num += 1\n",
    "count_score /= count_num\n",
    "tfidf_score /= tfidf_num\n",
    "print(count_score, tfidf_score)"
   ]
  },
  {
   "cell_type": "markdown",
   "metadata": {},
   "source": [
    "ВАШ ОТВЕТ: $tfidf$ даёт в среднем лучший результат. Это может быть связано с тем, что он учитывает общее число вхождений слова в обучающую выборку, в отличие от $count$. Так, например, наличие большого количества одинаковых слов в двух текстах в общем случае не является признаком их сходства по теме (даже исключив союзы и предлоги, мы нередко можем столкнуться с наличием повторяющихся слов в текстах разного жанра/стиля/...) "
   ]
  },
  {
   "cell_type": "markdown",
   "metadata": {},
   "source": [
    "**Задание 3.3** (кросс, 2 балла) Какая метрика близости позволяет в среднем достичь наилучшее качество? Почему?"
   ]
  },
  {
   "cell_type": "code",
   "execution_count": 25,
   "metadata": {},
   "outputs": [
    {
     "name": "stdout",
     "output_type": "stream",
     "text": [
      "0.6372319541028587 0.758354520798762\n"
     ]
    }
   ],
   "source": [
    "# ваш код\n",
    "euclid_score = 0\n",
    "cosine_score = 0\n",
    "euclid_num = 0\n",
    "cosine_num = 0\n",
    "for key in out.keys():\n",
    "    if key[2] == \"euclidean\":\n",
    "        euclid_score += out[key]\n",
    "        euclid_num += 1\n",
    "    elif key[2] == \"cosine\":\n",
    "        cosine_score += out[key]\n",
    "        cosine_num += 1\n",
    "euclid_score /= euclid_num\n",
    "cosine_score /= cosine_num\n",
    "print(euclid_score, cosine_score)"
   ]
  },
  {
   "cell_type": "markdown",
   "metadata": {},
   "source": [
    "ВАШ ОТВЕТ: Косинусная метрика даёт лучшие результаты, чем евклидова. Это обусловлено тем, что матрица разреженная (общее количество уникальных слов велико, но далеко не все из них встречаются в одном тексте), а значит, евклидово расстояние между объектами будет мало (т.к если евклидова норма $x$ мала и евклидова норма $y$ мала, то евклидова норма $x-y$ тоже мала), в отличии от косинусного, которое вычисляет \"степень сходства\" объектов через отношение скалярного произведения к произведению модулей. Здесь как раз-таки и нивелируется малость евклидовой нормы каждого объекта обучающей выборки."
   ]
  },
  {
   "cell_type": "markdown",
   "metadata": {},
   "source": [
    "**Задание 3.4** (кросс, 2 балла) Начертите график зависимости метрики качества от числа соседей. Метрику следует усреднить по всем параматрам, кроме числа соседей. Сделайте выводы о наблюдаемых зависимостях (возможно будет полезным ознакомиться с названиями классов)"
   ]
  },
  {
   "cell_type": "code",
   "execution_count": 26,
   "metadata": {},
   "outputs": [
    {
     "data": {
      "text/plain": [
       "[<matplotlib.lines.Line2D at 0x234b1ba93a0>]"
      ]
     },
     "execution_count": 26,
     "metadata": {},
     "output_type": "execute_result"
    },
    {
     "data": {
      "image/png": "[encoded data removed]",
      "text/plain": [
       "<Figure size 360x360 with 1 Axes>"
      ]
     },
     "metadata": {
      "needs_background": "light"
     },
     "output_type": "display_data"
    }
   ],
   "source": [
    "# ваш код\n",
    "n_neighbors = np.arange(1, 11)\n",
    "metric_value = np.zeros(10)\n",
    "n_counts = np.zeros(10)\n",
    "for key in out.keys():\n",
    "    metric_value[key[1] - 1] += out[key]\n",
    "    n_counts[key[1] - 1] += 1\n",
    "metric_value = metric_value / n_counts\n",
    "plt.plot(n_neighbors, metric_value)"
   ]
  },
  {
   "cell_type": "markdown",
   "metadata": {},
   "source": [
    "ВАШ ОТВЕТ: С ростом числа соседей средняя точность алгоритма падает. Это связано с наличием в разных текстах большого количества одинаковых слов (эмпирически известно, что в художественной литературе могут встречаться слова, употребляемые в научных публикациях и наоборот), а значит расстояние между де-факто разными (принадлежащими разным классам) текстами может быть мало, что будет приводить к ошибке при определении класса с помощью большого количества соседей."
   ]
  },
  {
   "cell_type": "markdown",
   "metadata": {},
   "source": [
    "**Задание 3.5** (кросс, 3 балла) Оцените точность вашей лучшей модели на тестовой части датасета. Отличается ли оно от качества, полученного на кросс-валидации? Почему?"
   ]
  },
  {
   "cell_type": "code",
   "execution_count": 27,
   "metadata": {},
   "outputs": [
    {
     "data": {
      "text/plain": [
       "[('TfidfVectorizer', 1, 'euclidean', 'uniform'),\n",
       " ('TfidfVectorizer', 1, 'euclidean', 'distance'),\n",
       " ('TfidfVectorizer', 1, 'cosine', 'uniform'),\n",
       " ('TfidfVectorizer', 1, 'cosine', 'distance'),\n",
       " ('TfidfVectorizer', 2, 'euclidean', 'distance'),\n",
       " ('TfidfVectorizer', 2, 'cosine', 'distance')]"
      ]
     },
     "execution_count": 27,
     "metadata": {},
     "output_type": "execute_result"
    }
   ],
   "source": [
    "best_parameters = [key for key in out.keys() if out[key] == max(out.values())]\n",
    "best_parameters"
   ]
  },
  {
   "cell_type": "code",
   "execution_count": 28,
   "metadata": {},
   "outputs": [
    {
     "data": {
      "text/plain": [
       "0.6510886882634095"
      ]
     },
     "execution_count": 28,
     "metadata": {},
     "output_type": "execute_result"
    }
   ],
   "source": [
    "#ваш код\n",
    "scl = TfidfVectorizer(max_df=0.8, min_df=10, stop_words='english')\n",
    "scl.fit(X_train)\n",
    "X1_train = scl.transform(X_train)\n",
    "clf = neighbors.KNeighborsClassifier(n_neighbors = 2, weights = \"distance\", metric = \"cosine\")\n",
    "clf.fit(X1_train, y_train)\n",
    "X1_test = scl.transform(X_test)\n",
    "y_predict = clf.predict(X1_test)\n",
    "score = accuracy_score(y_test, y_predict)\n",
    "score"
   ]
  },
  {
   "cell_type": "markdown",
   "metadata": {},
   "source": [
    "ВАШ ОТВЕТ: accuracy_score на тестовой выборке - 0.65. Он ниже, чем на обучающей, что обусловлено тем, что модель переобучилась под обучающую выборку и выдаёт на ней результат, существенно (~0.1) отличающийся от тестовой."
   ]
  },
  {
   "cell_type": "markdown",
   "metadata": {},
   "source": [
    "**(!)** А теперь перезапустите ноутбук: Kernel -> Restart & Run All"
   ]
  }
 ],
 "metadata": {
  "kernelspec": {
   "display_name": "Python 3",
   "language": "python",
   "name": "python3"
  },
  "language_info": {
   "codemirror_mode": {
    "name": "ipython",
    "version": 3
   },
   "file_extension": ".py",
   "mimetype": "text/x-python",
   "name": "python",
   "nbconvert_exporter": "python",
   "pygments_lexer": "ipython3",
   "version": "3.8.8"
  }
 },
 "nbformat": 4,
 "nbformat_minor": 4
}
